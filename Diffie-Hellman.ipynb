{
 "cells": [
  {
   "attachments": {},
   "cell_type": "markdown",
   "metadata": {},
   "source": [
    "# Diffie-Hellman Algorithm\n",
    "\n",
    "The Diffie-Hellman Algorithm is a secure way of **cryptographic keys exchange** across a public channel.\n",
    "\n",
    "Within the fields of cryptography, DH (Diffie-Hellman) is the earliest example of public key exchange. \n",
    "\n",
    "- This was the first publicly known work that put forward the idea of a corresponding pair of public and private key.\n",
    "\n",
    "The DH key exchange method enables the 2 parties who possess zero knowledge of each other to together set up a shared secret over an insecure (public) channel. \n",
    "\n",
    "- Then the communication can be encrypted using this shared key (symmetric-key cypher).\n",
    "\n",
    "Diffie-Hellman is used in creating a variety of Internet services.\n",
    "\n",
    "DH key agreement is a non-authentication key-agreement protocol, it forms the foundation for many authenticated protocols and is used in transport layer Security’s ephemeral modes to provide forward secrecy."
   ]
  },
  {
   "attachments": {},
   "cell_type": "markdown",
   "metadata": {},
   "source": [
    "# Description of Algorithm\n",
    "\n",
    "ECC (Elliptic Curve Cryptography) is an address to public-key cryptography. It is based on the algebraic structure of elliptical curves over finite fields.\n",
    "\n",
    "Elliptic Curve Cryptography needs a small key when compared to non-Elliptic Curve Cryptography to provide equivalent security (a 256-bit ECC security is equal to 3072-bit RSA cryptography).\n",
    "\n",
    "The Diffie-Hellman is used to set up a shared secret that can be used for secret communication while exchanging data across a public channel using this elliptic curve to produce points and use the parameters to obtain the secret key.\n",
    "\n",
    "## Working\n",
    "\n",
    "![DH Working](./img/dh.png)"
   ]
  },
  {
   "attachments": {},
   "cell_type": "markdown",
   "metadata": {},
   "source": [
    "# Usage\n",
    "\n",
    "A Diffie-Hellman key exchange-based public key encryption scheme has been proposed. \n",
    "\n",
    "- ElGamal encryption is the first such scheme. \n",
    "- Integrated Encryption Scheme is another modern variant.\n",
    "\n",
    "Protocols that attain **forward secrecy** create new key pairs for each session and cancel them at the end of the session. For such protocols, the Diffie-Hellman key exchange is a good choice because of its fast key generation."
   ]
  }
 ],
 "metadata": {
  "language_info": {
   "name": "python"
  },
  "orig_nbformat": 4
 },
 "nbformat": 4,
 "nbformat_minor": 2
}
