{
 "cells": [
  {
   "attachments": {},
   "cell_type": "markdown",
   "metadata": {},
   "source": [
    "# Transposition Ciphers\n",
    "\n",
    "The transposition technique is a cryptographic technique that converts the plain text to cipher text by performing permutations on the plain text, i.e., changing each character of plain text for each round.\n",
    "\n",
    "Mapping plain text into cipher text using transposition technique is called transposition cipher.\n",
    "\n",
    "On the one hand, the substitution technique substitutes a plain text symbol with a cipher text symbol. On the other hand, the transposition technique executes permutation on the plain text to obtain the cipher text.\n",
    "\n",
    "## Transposition Techniques\n",
    "\n",
    "Rail Fence Transposition\n",
    "\n",
    "Columnar Transposition\n",
    "\n",
    "Improved Columnar Transposition\n",
    "\n",
    "Book Cipher/Running Key Cipher"
   ]
  },
  {
   "cell_type": "code",
   "execution_count": null,
   "metadata": {},
   "outputs": [],
   "source": []
  }
 ],
 "metadata": {
  "language_info": {
   "name": "python"
  },
  "orig_nbformat": 4
 },
 "nbformat": 4,
 "nbformat_minor": 2
}
