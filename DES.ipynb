{
 "cells": [
  {
   "attachments": {},
   "cell_type": "markdown",
   "metadata": {},
   "source": [
    "# DES\n",
    "\n",
    "DES stands for Data encryption standard and is a symmetric encryption algorithm.\n",
    "\n",
    "It is block cipher and follows feistel structure.\n",
    "\n",
    "## Basic Overview\n",
    "\n",
    "Block Size = 64 bit plain text\n",
    "\n",
    "Number of rounds = 16\n",
    "\n",
    "Key size = 64 bit\n",
    "\n",
    "Number of sub-keys = 16\n",
    "\n",
    "Sub-key size = 48 bit\n",
    "\n",
    "Cipher text = 64 bit"
   ]
  },
  {
   "cell_type": "code",
   "execution_count": null,
   "metadata": {},
   "outputs": [],
   "source": []
  }
 ],
 "metadata": {
  "language_info": {
   "name": "python"
  },
  "orig_nbformat": 4
 },
 "nbformat": 4,
 "nbformat_minor": 2
}
