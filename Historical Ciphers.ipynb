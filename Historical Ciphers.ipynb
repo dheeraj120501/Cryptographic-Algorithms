{
 "cells": [
  {
   "attachments": {},
   "cell_type": "markdown",
   "metadata": {},
   "source": [
    "# Ceaser Shift Cipher\n",
    "\n",
    "If n is an integer than shift of n clockwise is same as shift of r clockwise where `r = n % k` where k is the complete alphabet size.\n",
    "\n",
    "This means that r can be from 0 till k - 1 i.e. there are only k types of ceaser shift cipher.\n",
    "\n",
    "For ASCII characters we can have 128 ceaser ciphers."
   ]
  },
  {
   "attachments": {},
   "cell_type": "markdown",
   "metadata": {},
   "source": [
    "# Substitution Cipher"
   ]
  },
  {
   "attachments": {},
   "cell_type": "markdown",
   "metadata": {},
   "source": [
    "# Permutation Cipher"
   ]
  },
  {
   "attachments": {},
   "cell_type": "markdown",
   "metadata": {},
   "source": [
    "# Viginere Cipher"
   ]
  },
  {
   "attachments": {},
   "cell_type": "markdown",
   "metadata": {},
   "source": [
    "# Enigma Machine"
   ]
  },
  {
   "cell_type": "code",
   "execution_count": null,
   "metadata": {},
   "outputs": [],
   "source": []
  }
 ],
 "metadata": {
  "language_info": {
   "name": "python"
  },
  "orig_nbformat": 4
 },
 "nbformat": 4,
 "nbformat_minor": 2
}
