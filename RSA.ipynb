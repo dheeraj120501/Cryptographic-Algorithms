{
 "cells": [
  {
   "attachments": {},
   "cell_type": "markdown",
   "metadata": {},
   "source": [
    "# RSA\n",
    "\n",
    "The RSA algorithm is an asymmetric cryptography algorithm; this means that it uses a public key and a private key (i.e two different, mathematically linked keys). \n",
    "\n",
    "## Working\n",
    "\n",
    "### Generating the keys\n",
    "\n",
    "Select two large prime numbers, `x` and `y` and calculate `n = x*y`.\n",
    "\n",
    "- The prime numbers need to be large so that they will be difficult for someone to figure out.\n",
    "\n",
    "Calculate the totient function i.e. `t(n) = (x-1)(y-1)`.\n",
    "\n",
    "Select an integer e such that `e` is a co-prime to t(n) and `1<e<t(n)`.\n",
    "\n",
    "- The pair of numbers `(n, e)` makes up the public key. \n",
    "\n",
    "Calculate d such that `e.d = 1 mod t(n)`. This can be found using the extended euclidean algorithm.\n",
    "\n",
    "- The pair of numbers `(n, d)` makes up the private key. \n",
    "\n",
    "\n",
    "### Encryption\n",
    "\n",
    "Given a plaintext P, represented as a number the ciphertext C can be calculated as `C = pow(P, e) mod n`.\n",
    "\n",
    "### Decryption\n",
    "\n",
    "Given a ciphertext C, represented as a number the plaintext P can be calculated as `P = pow(C, d) mod n`."
   ]
  },
  {
   "cell_type": "code",
   "execution_count": null,
   "metadata": {},
   "outputs": [],
   "source": []
  }
 ],
 "metadata": {
  "language_info": {
   "name": "python"
  },
  "orig_nbformat": 4
 },
 "nbformat": 4,
 "nbformat_minor": 2
}
